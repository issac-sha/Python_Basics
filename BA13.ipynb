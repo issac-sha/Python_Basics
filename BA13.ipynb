{
 "cells": [
  {
   "cell_type": "code",
   "execution_count": 23,
   "id": "a3f9ab3d-0805-41e3-a475-7e0035a68210",
   "metadata": {},
   "outputs": [],
   "source": [
    "import numpy as np\n",
    "import matplotlib.pyplot as plt"
   ]
  },
  {
   "cell_type": "code",
   "execution_count": 24,
   "id": "49b10241-d302-4392-9028-b690a15732df",
   "metadata": {},
   "outputs": [],
   "source": [
    "x=np.array([1,2,3,4,5])\n",
    "y=np.array([7,14,15,18,21])"
   ]
  },
  {
   "cell_type": "code",
   "execution_count": 3,
   "id": "05b090c5-869d-4ee6-b902-fd9d365ac285",
   "metadata": {},
   "outputs": [
    {
     "data": {
      "text/plain": [
       "array([1, 2, 3, 4, 5])"
      ]
     },
     "execution_count": 3,
     "metadata": {},
     "output_type": "execute_result"
    }
   ],
   "source": [
    "x"
   ]
  },
  {
   "cell_type": "code",
   "execution_count": 4,
   "id": "bb6fb0f5-828d-48a8-8771-6b283b041dec",
   "metadata": {},
   "outputs": [
    {
     "data": {
      "text/plain": [
       "array([ 7, 14, 15, 18, 21])"
      ]
     },
     "execution_count": 4,
     "metadata": {},
     "output_type": "execute_result"
    }
   ],
   "source": [
    "y"
   ]
  },
  {
   "cell_type": "code",
   "execution_count": 11,
   "id": "03ba8110-1aa1-4705-84a7-b6a8eb37ec64",
   "metadata": {},
   "outputs": [
    {
     "name": "stdout",
     "output_type": "stream",
     "text": [
      "3.0\n"
     ]
    }
   ],
   "source": [
    "x_mean=np.mean(x)\n",
    "print(x_mean)"
   ]
  },
  {
   "cell_type": "code",
   "execution_count": 12,
   "id": "2922079f-e114-4d9d-9998-0bfc39629b70",
   "metadata": {},
   "outputs": [
    {
     "name": "stdout",
     "output_type": "stream",
     "text": [
      "15.0\n"
     ]
    }
   ],
   "source": [
    "y_mean=np.mean(y)\n",
    "print(y_mean)"
   ]
  },
  {
   "cell_type": "code",
   "execution_count": 13,
   "id": "5b6fec08-9326-4620-8e92-d391feb884cb",
   "metadata": {},
   "outputs": [
    {
     "data": {
      "text/plain": [
       "<matplotlib.collections.PathCollection at 0x1cd08dde940>"
      ]
     },
     "execution_count": 13,
     "metadata": {},
     "output_type": "execute_result"
    },
    {
     "data": {
      "image/png": "[encoded data removed]",
      "text/plain": [
       "<Figure size 432x288 with 1 Axes>"
      ]
     },
     "metadata": {
      "needs_background": "light"
     },
     "output_type": "display_data"
    }
   ],
   "source": [
    "plt.scatter(x,y)"
   ]
  },
  {
   "cell_type": "code",
   "execution_count": 27,
   "id": "269f6c4d-7a04-4fdf-a4cc-265890b9c0fe",
   "metadata": {},
   "outputs": [
    {
     "data": {
      "text/plain": [
       "32.0"
      ]
     },
     "execution_count": 27,
     "metadata": {},
     "output_type": "execute_result"
    }
   ],
   "source": [
    "xMeanDiff=x-x_mean\n",
    "yMeanDiff=y-y_mean\n",
    "m=(xMeanDiff)*(yMeanDiff)\n",
    "ans1=sum(m)\n",
    "ans1\n"
   ]
  },
  {
   "cell_type": "code",
   "execution_count": 28,
   "id": "2931e914-82b2-4fea-a627-d492058897a9",
   "metadata": {},
   "outputs": [
    {
     "name": "stdout",
     "output_type": "stream",
     "text": [
      "[4. 1. 0. 1. 4.]\n"
     ]
    },
    {
     "data": {
      "text/plain": [
       "10.0"
      ]
     },
     "execution_count": 28,
     "metadata": {},
     "output_type": "execute_result"
    }
   ],
   "source": [
    "xsquared=(x-x_mean)*(x-x_mean)\n",
    "print(xsquared)\n",
    "ans2=sum(xsquared)\n",
    "ans2"
   ]
  },
  {
   "cell_type": "code",
   "execution_count": 42,
   "id": "e8adc1ad-a98f-4da6-a67a-bbf5b4646b3d",
   "metadata": {},
   "outputs": [
    {
     "data": {
      "text/plain": [
       "3.2"
      ]
     },
     "execution_count": 42,
     "metadata": {},
     "output_type": "execute_result"
    }
   ],
   "source": [
    "m=ans1/ans2\n",
    "m"
   ]
  },
  {
   "cell_type": "code",
   "execution_count": 43,
   "id": "e739c82f-7e92-4340-8289-5338b23d5632",
   "metadata": {},
   "outputs": [],
   "source": [
    "c=y_mean-(m*x_mean)"
   ]
  },
  {
   "cell_type": "code",
   "execution_count": 44,
   "id": "971a1bed-467d-4389-b872-d5c296df2a95",
   "metadata": {},
   "outputs": [
    {
     "data": {
      "text/plain": [
       "5.399999999999999"
      ]
     },
     "execution_count": 44,
     "metadata": {},
     "output_type": "execute_result"
    }
   ],
   "source": [
    "c"
   ]
  },
  {
   "cell_type": "code",
   "execution_count": 45,
   "id": "23bb667c-775b-4be6-a4f7-5b4c73418a8e",
   "metadata": {},
   "outputs": [],
   "source": [
    "y_new=(m*x)+c"
   ]
  },
  {
   "cell_type": "code",
   "execution_count": 46,
   "id": "3bde3062-412d-4aa4-a343-7d1bb2f9389b",
   "metadata": {},
   "outputs": [
    {
     "data": {
      "text/plain": [
       "75.0"
      ]
     },
     "execution_count": 46,
     "metadata": {},
     "output_type": "execute_result"
    }
   ],
   "source": [
    "sum(y_new)"
   ]
  },
  {
   "cell_type": "code",
   "execution_count": 40,
   "id": "7a61346f-d022-4bb9-bbe6-097a72f83dec",
   "metadata": {},
   "outputs": [],
   "source": [
    "#hence it forms the line equation Y=mX+C(here Y is the y_new, m=ans1/ans2,c=y_mean-(m*x_mean))"
   ]
  },
  {
   "cell_type": "code",
   "execution_count": 49,
   "id": "f92cdd75-a715-46e5-9546-2bed140627ae",
   "metadata": {},
   "outputs": [
    {
     "data": {
      "text/plain": [
       "[<matplotlib.lines.Line2D at 0x1cd09647cd0>]"
      ]
     },
     "execution_count": 49,
     "metadata": {},
     "output_type": "execute_result"
    },
    {
     "data": {
      "image/png": "[encoded data removed]",
      "text/plain": [
       "<Figure size 432x288 with 1 Axes>"
      ]
     },
     "metadata": {
      "needs_background": "light"
     },
     "output_type": "display_data"
    }
   ],
   "source": [
    "plt.scatter(x,y)\n",
    "plt.plot(x,y_new)"
   ]
  },
  {
   "cell_type": "code",
   "execution_count": null,
   "id": "c9ad4604-2229-4a5f-b711-58418f0df75d",
   "metadata": {},
   "outputs": [],
   "source": []
  }
 ],
 "metadata": {
  "kernelspec": {
   "display_name": "Python 3",
   "language": "python",
   "name": "python3"
  },
  "language_info": {
   "codemirror_mode": {
    "name": "ipython",
    "version": 3
   },
   "file_extension": ".py",
   "mimetype": "text/x-python",
   "name": "python",
   "nbconvert_exporter": "python",
   "pygments_lexer": "ipython3",
   "version": "3.8.8"
  }
 },
 "nbformat": 4,
 "nbformat_minor": 5
}
