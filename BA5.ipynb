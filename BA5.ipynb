{
 "cells": [
  {
   "cell_type": "code",
   "execution_count": 1,
   "id": "df7d65e3-3097-49e6-a19d-4b80a5c2798e",
   "metadata": {},
   "outputs": [],
   "source": [
    "xx=100"
   ]
  },
  {
   "cell_type": "code",
   "execution_count": 2,
   "id": "b1a9acff-f5ba-48ad-9b51-d2fc79b52cc5",
   "metadata": {},
   "outputs": [],
   "source": [
    "xy=200"
   ]
  },
  {
   "cell_type": "code",
   "execution_count": 3,
   "id": "2e192f70-7f78-4c6b-91a8-f14c39f50737",
   "metadata": {},
   "outputs": [
    {
     "data": {
      "text/plain": [
       "300"
      ]
     },
     "execution_count": 3,
     "metadata": {},
     "output_type": "execute_result"
    }
   ],
   "source": [
    "xx+xy"
   ]
  },
  {
   "cell_type": "code",
   "execution_count": 4,
   "id": "97cf9a81-d83f-4a1b-9198-6aa1c8a7c38d",
   "metadata": {},
   "outputs": [],
   "source": [
    "isaac=75"
   ]
  },
  {
   "cell_type": "code",
   "execution_count": 5,
   "id": "000b8b0d-744d-4a10-8f0f-f1b461ff2963",
   "metadata": {},
   "outputs": [],
   "source": [
    "liya=100"
   ]
  },
  {
   "cell_type": "code",
   "execution_count": 6,
   "id": "dc0feac9-5ecc-4633-9ee9-fb311a11959f",
   "metadata": {},
   "outputs": [
    {
     "data": {
      "text/plain": [
       "175"
      ]
     },
     "execution_count": 6,
     "metadata": {},
     "output_type": "execute_result"
    }
   ],
   "source": [
    "isaac+liya"
   ]
  },
  {
   "cell_type": "code",
   "execution_count": 7,
   "id": "8a9ed546-1fe5-4712-bb2b-9b58f30f255b",
   "metadata": {},
   "outputs": [
    {
     "name": "stdout",
     "output_type": "stream",
     "text": [
      "100\n"
     ]
    }
   ],
   "source": [
    "print1=100\n",
    "print(print1)"
   ]
  },
  {
   "cell_type": "code",
   "execution_count": null,
   "id": "46928173-1717-4bc2-8e13-d319d945dc98",
   "metadata": {},
   "outputs": [],
   "source": [
    "# python based commands cannot be used as a user based commands like print,if"
   ]
  },
  {
   "cell_type": "code",
   "execution_count": 8,
   "id": "28bea8c8-414a-433c-91e8-8323263e607b",
   "metadata": {},
   "outputs": [],
   "source": [
    "ABC=10"
   ]
  },
  {
   "cell_type": "code",
   "execution_count": 10,
   "id": "8453dcce-62fe-4b80-8d7a-1a901fddae2a",
   "metadata": {},
   "outputs": [],
   "source": [
    "Abc=10"
   ]
  },
  {
   "cell_type": "code",
   "execution_count": 11,
   "id": "b4f42bc2-30d5-4242-a55d-61f8410e1370",
   "metadata": {},
   "outputs": [],
   "source": [
    "aBC=10"
   ]
  },
  {
   "cell_type": "code",
   "execution_count": 12,
   "id": "c2cfe60d-fd23-4101-a27c-d440b1677424",
   "metadata": {},
   "outputs": [],
   "source": [
    "abc=10"
   ]
  },
  {
   "cell_type": "code",
   "execution_count": 14,
   "id": "72201571-3900-45ad-aae0-5a9c6dfab435",
   "metadata": {},
   "outputs": [
    {
     "name": "stdout",
     "output_type": "stream",
     "text": [
      "10\n"
     ]
    }
   ],
   "source": [
    "print(aBC)"
   ]
  },
  {
   "cell_type": "code",
   "execution_count": 19,
   "id": "b13623b7-bb8d-4bc1-a4d4-2141ee8b6278",
   "metadata": {},
   "outputs": [
    {
     "ename": "SyntaxError",
     "evalue": "invalid syntax (<ipython-input-19-eb132473e491>, line 1)",
     "output_type": "error",
     "traceback": [
      "\u001b[1;36m  File \u001b[1;32m\"<ipython-input-19-eb132473e491>\"\u001b[1;36m, line \u001b[1;32m1\u001b[0m\n\u001b[1;33m    1abc=10\u001b[0m\n\u001b[1;37m     ^\u001b[0m\n\u001b[1;31mSyntaxError\u001b[0m\u001b[1;31m:\u001b[0m invalid syntax\n"
     ]
    }
   ],
   "source": [
    "1abc=10\n"
   ]
  },
  {
   "cell_type": "code",
   "execution_count": 20,
   "id": "1f1262b7-710f-46a3-8f1a-63d96781a0ac",
   "metadata": {},
   "outputs": [
    {
     "ename": "SyntaxError",
     "evalue": "invalid syntax (<ipython-input-20-00478ecfad8e>, line 1)",
     "output_type": "error",
     "traceback": [
      "\u001b[1;36m  File \u001b[1;32m\"<ipython-input-20-00478ecfad8e>\"\u001b[1;36m, line \u001b[1;32m1\u001b[0m\n\u001b[1;33m    a b=10\u001b[0m\n\u001b[1;37m      ^\u001b[0m\n\u001b[1;31mSyntaxError\u001b[0m\u001b[1;31m:\u001b[0m invalid syntax\n"
     ]
    }
   ],
   "source": [
    "a b=10"
   ]
  },
  {
   "cell_type": "code",
   "execution_count": 21,
   "id": "35439a05-31cf-4a28-8ab2-e5a2ae39c026",
   "metadata": {},
   "outputs": [],
   "source": [
    "# a varibale shouldnt start with an integer it should always start with a letter"
   ]
  },
  {
   "cell_type": "code",
   "execution_count": 22,
   "id": "fa794f2d-8b1d-473c-80d6-83292e103dfd",
   "metadata": {},
   "outputs": [],
   "source": [
    "# you cannot add space between variables"
   ]
  },
  {
   "cell_type": "code",
   "execution_count": 23,
   "id": "a02fddc1-6436-4869-9fcf-7b38acb7951e",
   "metadata": {},
   "outputs": [],
   "source": [
    "#these principles are called identifiers\n"
   ]
  },
  {
   "cell_type": "code",
   "execution_count": 24,
   "id": "bcc13544-d165-4a36-bf7a-a8fd9db82b37",
   "metadata": {},
   "outputs": [],
   "source": [
    "x,y,z=\"Liya\",\"Isaac\",\"Meenu\""
   ]
  },
  {
   "cell_type": "code",
   "execution_count": 25,
   "id": "30c51246-a978-44e2-b3cf-2ab80261b349",
   "metadata": {},
   "outputs": [
    {
     "data": {
      "text/plain": [
       "'Liya'"
      ]
     },
     "execution_count": 25,
     "metadata": {},
     "output_type": "execute_result"
    }
   ],
   "source": [
    "x"
   ]
  },
  {
   "cell_type": "code",
   "execution_count": 26,
   "id": "7319913f-25ae-40d0-a3b0-8b8964cf4ddf",
   "metadata": {},
   "outputs": [
    {
     "data": {
      "text/plain": [
       "'Isaac'"
      ]
     },
     "execution_count": 26,
     "metadata": {},
     "output_type": "execute_result"
    }
   ],
   "source": [
    "y"
   ]
  },
  {
   "cell_type": "code",
   "execution_count": 27,
   "id": "86d1675d-d24b-47d3-bdd7-fd38dfb508c9",
   "metadata": {},
   "outputs": [
    {
     "data": {
      "text/plain": [
       "'Meenu'"
      ]
     },
     "execution_count": 27,
     "metadata": {},
     "output_type": "execute_result"
    }
   ],
   "source": [
    "z"
   ]
  },
  {
   "cell_type": "code",
   "execution_count": 28,
   "id": "c77da2e5-e0cf-4c1b-be01-f937cd5e85c2",
   "metadata": {},
   "outputs": [
    {
     "name": "stdout",
     "output_type": "stream",
     "text": [
      "Liya\n"
     ]
    }
   ],
   "source": [
    "print(x)"
   ]
  },
  {
   "cell_type": "code",
   "execution_count": 33,
   "id": "be2d3c0f-271e-4763-86ea-1d348579e4b7",
   "metadata": {},
   "outputs": [],
   "source": [
    "x,y,z=\"Jostien\",\"Akshay\",2"
   ]
  },
  {
   "cell_type": "code",
   "execution_count": 34,
   "id": "c06c9918-f71c-4e2d-937a-f489f9b6d213",
   "metadata": {},
   "outputs": [
    {
     "data": {
      "text/plain": [
       "'Jostien'"
      ]
     },
     "execution_count": 34,
     "metadata": {},
     "output_type": "execute_result"
    }
   ],
   "source": [
    "x\n"
   ]
  },
  {
   "cell_type": "code",
   "execution_count": 35,
   "id": "278b6ab7-71cc-49f8-aca1-80eecfae9313",
   "metadata": {},
   "outputs": [
    {
     "data": {
      "text/plain": [
       "'Akshay'"
      ]
     },
     "execution_count": 35,
     "metadata": {},
     "output_type": "execute_result"
    }
   ],
   "source": [
    "y"
   ]
  },
  {
   "cell_type": "code",
   "execution_count": 36,
   "id": "fc733ffd-6859-4170-93e2-8483177f3638",
   "metadata": {},
   "outputs": [
    {
     "data": {
      "text/plain": [
       "2"
      ]
     },
     "execution_count": 36,
     "metadata": {},
     "output_type": "execute_result"
    }
   ],
   "source": [
    "z"
   ]
  },
  {
   "cell_type": "code",
   "execution_count": 37,
   "id": "da02b471-5b83-4da2-96a1-5af4997d0457",
   "metadata": {},
   "outputs": [],
   "source": [
    "#math library is used to do mathematical opertations. import math "
   ]
  },
  {
   "cell_type": "code",
   "execution_count": 43,
   "id": "7fabc859-c3d2-4fda-9b49-9717996bf47d",
   "metadata": {},
   "outputs": [],
   "source": [
    "import math "
   ]
  },
  {
   "cell_type": "code",
   "execution_count": 44,
   "id": "26dc57a9-e7bf-495f-8ef9-d0f1aaca817f",
   "metadata": {},
   "outputs": [
    {
     "data": {
      "text/plain": [
       "3.141592653589793"
      ]
     },
     "execution_count": 44,
     "metadata": {},
     "output_type": "execute_result"
    }
   ],
   "source": [
    "math.pi"
   ]
  },
  {
   "cell_type": "code",
   "execution_count": 52,
   "id": "e9663f12-a0de-48a5-ac1b-e95eecec31c0",
   "metadata": {},
   "outputs": [
    {
     "data": {
      "text/plain": [
       "1.0"
      ]
     },
     "execution_count": 52,
     "metadata": {},
     "output_type": "execute_result"
    }
   ],
   "source": [
    "math.cos(0)"
   ]
  },
  {
   "cell_type": "code",
   "execution_count": 58,
   "id": "4d23720e-7ebc-469d-9cd4-1e639f3a4247",
   "metadata": {},
   "outputs": [
    {
     "data": {
      "text/plain": [
       "1.0"
      ]
     },
     "execution_count": 58,
     "metadata": {},
     "output_type": "execute_result"
    }
   ],
   "source": [
    "math.sin(math.pi/2)"
   ]
  },
  {
   "cell_type": "code",
   "execution_count": 5,
   "id": "bbc425df-cf74-467c-b0e3-59cab930f41a",
   "metadata": {},
   "outputs": [],
   "source": [
    "import math "
   ]
  },
  {
   "cell_type": "code",
   "execution_count": 6,
   "id": "2bd0a1a3-08f9-4284-b988-e8eb58f9ddc3",
   "metadata": {},
   "outputs": [
    {
     "data": {
      "text/plain": [
       "3.141592653589793"
      ]
     },
     "execution_count": 6,
     "metadata": {},
     "output_type": "execute_result"
    }
   ],
   "source": [
    "math.pi"
   ]
  },
  {
   "cell_type": "code",
   "execution_count": 2,
   "id": "3d923477-0b13-449b-8735-61b1f36991e0",
   "metadata": {},
   "outputs": [],
   "source": [
    "#making a scientific calc\n"
   ]
  },
  {
   "cell_type": "code",
   "execution_count": 21,
   "id": "8b062f80-c7f3-44e8-bced-3b2603150c22",
   "metadata": {},
   "outputs": [
    {
     "name": "stdin",
     "output_type": "stream",
     "text": [
      "Enter a number 1\n",
      "Enter 1 for sin,2 for cos,3 for tan 2\n"
     ]
    },
    {
     "name": "stdout",
     "output_type": "stream",
     "text": [
      "0.5403023058681398\n"
     ]
    }
   ],
   "source": [
    "x=int(input(\"Enter a number\"))\n",
    "y=int(input(\"Enter 1 for sin,2 for cos,3 for tan\"))\n",
    "if y==1:\n",
    "    ans=math.sin(x)\n",
    "    print(ans)\n",
    "if y==2:\n",
    "    ans=math.cos(x)\n",
    "    print(ans)\n",
    "if y==3:\n",
    "    ans=math.tan(x)\n",
    "    print(ans)"
   ]
  },
  {
   "cell_type": "code",
   "execution_count": 5,
   "id": "47de6318-4283-4388-9e02-2b8500da7a1c",
   "metadata": {},
   "outputs": [],
   "source": [
    "def liya():\n",
    "    x=int(input(\"Enter your number\"))\n",
    "    print(\"Sq of x is equal to \",x*x)"
   ]
  },
  {
   "cell_type": "code",
   "execution_count": 6,
   "id": "ad9c0e6b-c55a-4abc-894c-7e33aee76b1c",
   "metadata": {},
   "outputs": [
    {
     "name": "stdin",
     "output_type": "stream",
     "text": [
      "Enter your number 2\n"
     ]
    },
    {
     "name": "stdout",
     "output_type": "stream",
     "text": [
      "Sq of x is equal to  4\n"
     ]
    }
   ],
   "source": [
    "liya()"
   ]
  },
  {
   "cell_type": "code",
   "execution_count": 7,
   "id": "9a199592-b227-449c-99b7-878d8f4fc7da",
   "metadata": {},
   "outputs": [],
   "source": [
    "# it puts a set of commands in to a single function\n"
   ]
  },
  {
   "cell_type": "code",
   "execution_count": null,
   "id": "d1d3c001-bbfa-4b97-ae67-c435576d706f",
   "metadata": {},
   "outputs": [],
   "source": []
  }
 ],
 "metadata": {
  "kernelspec": {
   "display_name": "Python 3",
   "language": "python",
   "name": "python3"
  },
  "language_info": {
   "codemirror_mode": {
    "name": "ipython",
    "version": 3
   },
   "file_extension": ".py",
   "mimetype": "text/x-python",
   "name": "python",
   "nbconvert_exporter": "python",
   "pygments_lexer": "ipython3",
   "version": "3.8.8"
  }
 },
 "nbformat": 4,
 "nbformat_minor": 5
}
