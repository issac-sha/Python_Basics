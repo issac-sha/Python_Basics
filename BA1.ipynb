{
 "cells": [
  {
   "cell_type": "code",
   "execution_count": 3,
   "id": "961e0d61-2e85-4654-b022-61b96a2bbf46",
   "metadata": {},
   "outputs": [
    {
     "name": "stdout",
     "output_type": "stream",
     "text": [
      "Isaac Sha\n"
     ]
    }
   ],
   "source": [
    "print(\"Isaac Sha\")"
   ]
  },
  {
   "cell_type": "code",
   "execution_count": 4,
   "id": "13170565-59a3-4d32-bba9-38ac8e4fa300",
   "metadata": {},
   "outputs": [],
   "source": [
    "x=10"
   ]
  },
  {
   "cell_type": "code",
   "execution_count": 5,
   "id": "509a1e12-2125-46ec-a31d-109dae2eb08f",
   "metadata": {},
   "outputs": [
    {
     "name": "stdout",
     "output_type": "stream",
     "text": [
      "10\n"
     ]
    }
   ],
   "source": [
    "print(x)"
   ]
  },
  {
   "cell_type": "code",
   "execution_count": 6,
   "id": "b9921ad3-67c0-4007-99bd-8118e7a46297",
   "metadata": {},
   "outputs": [],
   "source": [
    "y=20\n"
   ]
  },
  {
   "cell_type": "code",
   "execution_count": 9,
   "id": "2181cd83-a426-4045-b323-3e867106dc1c",
   "metadata": {},
   "outputs": [
    {
     "name": "stdout",
     "output_type": "stream",
     "text": [
      "30\n"
     ]
    }
   ],
   "source": [
    "print(x+y)"
   ]
  },
  {
   "cell_type": "code",
   "execution_count": 10,
   "id": "5f9ab1f9-355c-4002-9fac-2e1d311fb2d6",
   "metadata": {},
   "outputs": [],
   "source": [
    "z= \"India\""
   ]
  },
  {
   "cell_type": "code",
   "execution_count": 11,
   "id": "65a354c0-5517-463b-a15c-f2169867ecc8",
   "metadata": {},
   "outputs": [
    {
     "name": "stdout",
     "output_type": "stream",
     "text": [
      "India\n"
     ]
    }
   ],
   "source": [
    "print(z)"
   ]
  },
  {
   "cell_type": "code",
   "execution_count": 12,
   "id": "beae79d8-8efc-4d0f-a141-8ddcc138aad8",
   "metadata": {},
   "outputs": [
    {
     "name": "stdout",
     "output_type": "stream",
     "text": [
      "10 India\n"
     ]
    }
   ],
   "source": [
    "print(x,z)"
   ]
  },
  {
   "cell_type": "code",
   "execution_count": 13,
   "id": "8750a14d-6e5a-41f7-ae31-bdc0392b8b43",
   "metadata": {},
   "outputs": [
    {
     "name": "stdout",
     "output_type": "stream",
     "text": [
      "10 20 India\n"
     ]
    }
   ],
   "source": [
    "print(x,y,z)"
   ]
  },
  {
   "cell_type": "code",
   "execution_count": 14,
   "id": "21ab7955-d813-4627-a1bc-46602b4acb54",
   "metadata": {},
   "outputs": [],
   "source": [
    "x=19\n"
   ]
  },
  {
   "cell_type": "code",
   "execution_count": 15,
   "id": "2f6f5b78-777e-413c-9eee-3f0d8399fe14",
   "metadata": {},
   "outputs": [],
   "source": [
    "y=5"
   ]
  },
  {
   "cell_type": "code",
   "execution_count": 21,
   "id": "1a908701-9d3e-47c1-ae23-74fcbdec3b66",
   "metadata": {},
   "outputs": [],
   "source": [
    "z=88.2\n"
   ]
  },
  {
   "cell_type": "code",
   "execution_count": 18,
   "id": "13f443b3-8435-4af4-a0b7-ce4d26ea4ba4",
   "metadata": {},
   "outputs": [
    {
     "name": "stdout",
     "output_type": "stream",
     "text": [
      "19 5 88\n"
     ]
    }
   ],
   "source": [
    "print(x,y,z)"
   ]
  },
  {
   "cell_type": "code",
   "execution_count": 19,
   "id": "7c0f1a8f-0450-4cff-ac94-19f05d7c3639",
   "metadata": {},
   "outputs": [
    {
     "data": {
      "text/plain": [
       "int"
      ]
     },
     "execution_count": 19,
     "metadata": {},
     "output_type": "execute_result"
    }
   ],
   "source": [
    "type(x)"
   ]
  },
  {
   "cell_type": "code",
   "execution_count": 20,
   "id": "7670de94-47b1-4981-9616-361c6c00f728",
   "metadata": {},
   "outputs": [
    {
     "data": {
      "text/plain": [
       "int"
      ]
     },
     "execution_count": 20,
     "metadata": {},
     "output_type": "execute_result"
    }
   ],
   "source": [
    "type(y)"
   ]
  },
  {
   "cell_type": "code",
   "execution_count": 22,
   "id": "53d39ef7-d7d5-4f3f-beb6-36a434505669",
   "metadata": {},
   "outputs": [
    {
     "data": {
      "text/plain": [
       "float"
      ]
     },
     "execution_count": 22,
     "metadata": {},
     "output_type": "execute_result"
    }
   ],
   "source": [
    "type(z)"
   ]
  },
  {
   "cell_type": "code",
   "execution_count": 24,
   "id": "8a51de65-ec71-4242-83f5-fc76fa2a1c89",
   "metadata": {},
   "outputs": [],
   "source": [
    "x=10\n",
    "y=10.5"
   ]
  },
  {
   "cell_type": "code",
   "execution_count": 25,
   "id": "bd1d7fcc-0760-4a0e-a6c4-f9bca1c391bf",
   "metadata": {},
   "outputs": [
    {
     "name": "stdout",
     "output_type": "stream",
     "text": [
      "10 10.5\n"
     ]
    }
   ],
   "source": [
    "print(x,y)"
   ]
  },
  {
   "cell_type": "code",
   "execution_count": 26,
   "id": "cf1dc6df-7597-46e7-8782-a1a7c9de6cb9",
   "metadata": {},
   "outputs": [],
   "source": [
    "z=x+y\n"
   ]
  },
  {
   "cell_type": "code",
   "execution_count": 27,
   "id": "f86088b5-581d-4d93-b9f0-e3e644c45ea6",
   "metadata": {},
   "outputs": [
    {
     "name": "stdout",
     "output_type": "stream",
     "text": [
      "20.5\n"
     ]
    }
   ],
   "source": [
    "print(z)"
   ]
  },
  {
   "cell_type": "code",
   "execution_count": 28,
   "id": "3108707f-2c78-423b-9dfa-39f4d8c90fcb",
   "metadata": {},
   "outputs": [
    {
     "data": {
      "text/plain": [
       "float"
      ]
     },
     "execution_count": 28,
     "metadata": {},
     "output_type": "execute_result"
    }
   ],
   "source": [
    "type(z)"
   ]
  },
  {
   "cell_type": "code",
   "execution_count": 29,
   "id": "4ffe0e6f-83f5-495f-a91a-35305ba35051",
   "metadata": {},
   "outputs": [],
   "source": [
    "x=10\n",
    "y=10.0"
   ]
  },
  {
   "cell_type": "code",
   "execution_count": 30,
   "id": "c06c06f6-5324-4042-bd99-f13aa3971ec4",
   "metadata": {},
   "outputs": [
    {
     "name": "stdout",
     "output_type": "stream",
     "text": [
      "20.0\n"
     ]
    }
   ],
   "source": [
    "print(x+y)"
   ]
  },
  {
   "cell_type": "code",
   "execution_count": 31,
   "id": "a8ac1fa0-7e18-403e-9c07-a773b9f3711f",
   "metadata": {},
   "outputs": [
    {
     "data": {
      "text/plain": [
       "float"
      ]
     },
     "execution_count": 31,
     "metadata": {},
     "output_type": "execute_result"
    }
   ],
   "source": [
    "type(x+y)"
   ]
  },
  {
   "cell_type": "code",
   "execution_count": 37,
   "id": "14f8f57e-2880-4faf-928a-a1dba0eeb02f",
   "metadata": {},
   "outputs": [],
   "source": [
    "x=\"India \"\n",
    "y=\"is \"\n"
   ]
  },
  {
   "cell_type": "code",
   "execution_count": 42,
   "id": "a73c4c4e-a315-4335-a276-074c0e3dc3d7",
   "metadata": {},
   "outputs": [],
   "source": [
    "z=\"my country\""
   ]
  },
  {
   "cell_type": "code",
   "execution_count": 43,
   "id": "4eaca913-83c3-4f0a-95e5-029e26d2a703",
   "metadata": {},
   "outputs": [
    {
     "name": "stdout",
     "output_type": "stream",
     "text": [
      "India  is  my country\n"
     ]
    }
   ],
   "source": [
    "print(x,y,z)"
   ]
  },
  {
   "cell_type": "code",
   "execution_count": 60,
   "id": "f3ebf0e6-6f35-4654-9177-a093673a8fc3",
   "metadata": {},
   "outputs": [],
   "source": [
    "a=x+\" \"+y+\" \"+z+\" \""
   ]
  },
  {
   "cell_type": "code",
   "execution_count": 62,
   "id": "ac89d2c6-839c-4eea-a9ba-9f693e45f7b1",
   "metadata": {},
   "outputs": [
    {
     "name": "stdout",
     "output_type": "stream",
     "text": [
      "India is my country\n"
     ]
    }
   ],
   "source": [
    "print(a)"
   ]
  },
  {
   "cell_type": "code",
   "execution_count": null,
   "id": "2f9a055d-2725-4b7e-833f-2dcf50d1085b",
   "metadata": {},
   "outputs": [],
   "source": []
  }
 ],
 "metadata": {
  "kernelspec": {
   "display_name": "Python 3",
   "language": "python",
   "name": "python3"
  },
  "language_info": {
   "codemirror_mode": {
    "name": "ipython",
    "version": 3
   },
   "file_extension": ".py",
   "mimetype": "text/x-python",
   "name": "python",
   "nbconvert_exporter": "python",
   "pygments_lexer": "ipython3",
   "version": "3.8.8"
  }
 },
 "nbformat": 4,
 "nbformat_minor": 5
}
