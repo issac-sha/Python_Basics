{
 "cells": [
  {
   "cell_type": "code",
   "execution_count": null,
   "id": "416d8645-1d55-4e25-9af1-ed50dc4522a4",
   "metadata": {},
   "outputs": [],
   "source": [
    "def intro():\n",
    "    print(\"Hello world\")"
   ]
  },
  {
   "cell_type": "code",
   "execution_count": null,
   "id": "210cf6ff-51b8-48bd-82eb-665062a4c0c2",
   "metadata": {},
   "outputs": [],
   "source": [
    "intro()\n"
   ]
  },
  {
   "cell_type": "code",
   "execution_count": null,
   "id": "90f65aa5-b95c-4ac1-a61e-adfde1210126",
   "metadata": {},
   "outputs": [],
   "source": [
    "x=10"
   ]
  },
  {
   "cell_type": "code",
   "execution_count": null,
   "id": "ae65bb79-423d-4947-96b0-4dc9229dc7e1",
   "metadata": {},
   "outputs": [],
   "source": [
    "y=20"
   ]
  },
  {
   "cell_type": "code",
   "execution_count": null,
   "id": "9d9edc98-6a49-4989-8200-ef38c433fc74",
   "metadata": {},
   "outputs": [],
   "source": [
    "z=x+y"
   ]
  },
  {
   "cell_type": "code",
   "execution_count": null,
   "id": "5d0d250c-9057-42e1-a31a-8a2a8e55840d",
   "metadata": {},
   "outputs": [],
   "source": [
    "print(z)"
   ]
  },
  {
   "cell_type": "code",
   "execution_count": null,
   "id": "b275c33f-b103-496d-bab2-bd394cd7f503",
   "metadata": {},
   "outputs": [],
   "source": [
    "intro()"
   ]
  },
  {
   "cell_type": "code",
   "execution_count": null,
   "id": "47616714-e7ad-4020-af55-91a87ecbc200",
   "metadata": {},
   "outputs": [],
   "source": [
    "print(z)\n",
    "intro()"
   ]
  },
  {
   "cell_type": "code",
   "execution_count": 5,
   "id": "78253785-fc91-47cd-a9f3-3b5bee855fac",
   "metadata": {},
   "outputs": [],
   "source": [
    "def add():\n",
    "    x=int(input(\"Enter first number\"))\n",
    "    y=int(input(\"Enter second number\"))\n",
    "    print(x+y)"
   ]
  },
  {
   "cell_type": "code",
   "execution_count": 7,
   "id": "3d5d599e-0ba8-4abc-a646-e0ee58259b15",
   "metadata": {},
   "outputs": [
    {
     "name": "stdin",
     "output_type": "stream",
     "text": [
      "Enter first number 2\n",
      "Enter second number 2\n"
     ]
    },
    {
     "name": "stdout",
     "output_type": "stream",
     "text": [
      "4\n"
     ]
    }
   ],
   "source": [
    "add()"
   ]
  },
  {
   "cell_type": "code",
   "execution_count": 8,
   "id": "b52c8448-8ce3-4ffa-8cd3-41e6f41d556c",
   "metadata": {},
   "outputs": [],
   "source": [
    "def substract():\n",
    "    x=int(input(\"Enter first number\"))\n",
    "    y=int(input(\"Enter second number\"))\n",
    "    print(x-y)\n",
    "    \n",
    "def div():\n",
    "    x=int(input(\"Enter first number\"))\n",
    "    y=int(input(\"Enter second number\"))\n",
    "    print(x/y)\n",
    "    \n",
    "def multi():\n",
    "    x=int(input(\"Enter first number\"))\n",
    "    y=int(input(\"Enter second number\"))\n",
    "    print(x*y)"
   ]
  },
  {
   "cell_type": "code",
   "execution_count": 9,
   "id": "747381a0-6592-46b5-aa4e-7d6d7bb26873",
   "metadata": {},
   "outputs": [
    {
     "name": "stdin",
     "output_type": "stream",
     "text": [
      "Enter first number 22\n",
      "Enter second number 2\n"
     ]
    },
    {
     "name": "stdout",
     "output_type": "stream",
     "text": [
      "24\n"
     ]
    }
   ],
   "source": [
    "add()\n"
   ]
  },
  {
   "cell_type": "code",
   "execution_count": 11,
   "id": "e605d9a9-0833-43aa-9679-be5301e2c0af",
   "metadata": {},
   "outputs": [
    {
     "name": "stdin",
     "output_type": "stream",
     "text": [
      "Enter first number 2\n",
      "Enter second number 2\n"
     ]
    },
    {
     "name": "stdout",
     "output_type": "stream",
     "text": [
      "1.0\n"
     ]
    }
   ],
   "source": [
    "div()"
   ]
  },
  {
   "cell_type": "code",
   "execution_count": 12,
   "id": "46142af0-c50b-491b-b8e1-1877f4f5557b",
   "metadata": {},
   "outputs": [
    {
     "name": "stdin",
     "output_type": "stream",
     "text": [
      "Enter first number 2\n",
      "Enter second number 2\n"
     ]
    },
    {
     "name": "stdout",
     "output_type": "stream",
     "text": [
      "4\n"
     ]
    }
   ],
   "source": [
    "multi()"
   ]
  },
  {
   "cell_type": "code",
   "execution_count": 13,
   "id": "bcc8244f-e5d9-4354-a17d-a51d215f0211",
   "metadata": {},
   "outputs": [
    {
     "name": "stdin",
     "output_type": "stream",
     "text": [
      "Enter first number 2\n",
      "Enter second number 2\n"
     ]
    },
    {
     "name": "stdout",
     "output_type": "stream",
     "text": [
      "0\n"
     ]
    }
   ],
   "source": [
    "substract()\n"
   ]
  },
  {
   "cell_type": "code",
   "execution_count": 14,
   "id": "04cf7608-ee9d-4174-8ee8-7c595a5794ee",
   "metadata": {},
   "outputs": [
    {
     "name": "stdin",
     "output_type": "stream",
     "text": [
      "Enter 1 for add, 2 for subtract, 3 for multiplication, 4 for division 2\n",
      "Enter first number 2\n",
      "Enter second number 2\n"
     ]
    },
    {
     "name": "stdout",
     "output_type": "stream",
     "text": [
      "0\n"
     ]
    }
   ],
   "source": [
    "\n",
    "y=int(input(\"Enter 1 for add, 2 for subtract, 3 for multiplication, 4 for division\"))\n",
    "if y==1:\n",
    "    add()\n",
    "if y==2:\n",
    "    substract()\n",
    "if y==3:\n",
    "    multi()\n",
    "if y==4:\n",
    "    div()"
   ]
  },
  {
   "cell_type": "code",
   "execution_count": 15,
   "id": "283b82e3-cf44-4fe4-a5d7-15735acf582b",
   "metadata": {},
   "outputs": [],
   "source": [
    "def simple_calc():\n",
    "    y=int(input(\"Enter 1 for add, 2 for subtract, 3 for multiplication, 4 for division\"))\n",
    "    if y==1:\n",
    "        add()\n",
    "    if y==2:\n",
    "        substract()\n",
    "    if y==3:\n",
    "        multi()\n",
    "    if y==4:\n",
    "        div()"
   ]
  },
  {
   "cell_type": "code",
   "execution_count": 16,
   "id": "ddd6101e-8599-46b9-aaf5-e7cecbf77cbe",
   "metadata": {},
   "outputs": [
    {
     "name": "stdin",
     "output_type": "stream",
     "text": [
      "Enter 1 for add, 2 for subtract, 3 for multiplication, 4 for division 2\n",
      "Enter first number 2\n",
      "Enter second number 2\n"
     ]
    },
    {
     "name": "stdout",
     "output_type": "stream",
     "text": [
      "0\n"
     ]
    }
   ],
   "source": [
    "simple_calc()"
   ]
  },
  {
   "cell_type": "code",
   "execution_count": null,
   "id": "741b8120-a2bf-4548-a0e2-2979ad386e21",
   "metadata": {},
   "outputs": [],
   "source": []
  },
  {
   "cell_type": "code",
   "execution_count": 6,
   "id": "bdf9776a-f251-4c91-8f62-f3ff1925ea25",
   "metadata": {},
   "outputs": [],
   "source": [
    "def add1(x,y):\n",
    "    z=x+y\n",
    "    print(z)\n",
    "def sub1(x,y):\n",
    "    z=x-y\n",
    "    print(z)\n",
    "def multi1(x,y):\n",
    "    z=x*y\n",
    "    print(z)\n",
    "def div1(x,y):\n",
    "    z=x/y\n",
    "    print(z)\n",
    "\n",
    "    \n",
    "    "
   ]
  },
  {
   "cell_type": "code",
   "execution_count": 7,
   "id": "6e8398eb-3f16-49ba-919f-d2fe38051bca",
   "metadata": {},
   "outputs": [],
   "source": [
    "def simple_calculator():\n",
    "    x=int(input(\"Enter first number\"))\n",
    "    y=int(input(\"Enter second number\"))\n",
    "    num=int(input(\"Enter 1 for add , 2 for sub, 3 for multi, 4 for div\"))\n",
    "    if num==1 :\n",
    "        add1(x,y)\n",
    "    if num==2 :\n",
    "        sub1(x,y)\n",
    "    if num==3 :\n",
    "        multi1(x,y)\n",
    "    if num==4 :\n",
    "        div1(x,y)\n",
    "\n",
    "\n",
    "\n",
    "\n"
   ]
  },
  {
   "cell_type": "code",
   "execution_count": 8,
   "id": "85083506-8d8e-444b-a9d9-68e4b8982efb",
   "metadata": {},
   "outputs": [
    {
     "name": "stdin",
     "output_type": "stream",
     "text": [
      "Enter first number 2\n",
      "Enter second number 2\n",
      "Enter 1 for add , 2 for sub, 3 for multi, 4 for div 2\n"
     ]
    },
    {
     "name": "stdout",
     "output_type": "stream",
     "text": [
      "0\n"
     ]
    }
   ],
   "source": [
    "simple_calculator()"
   ]
  },
  {
   "cell_type": "code",
   "execution_count": 9,
   "id": "57a21e74-0d23-4514-b1ce-9d0bb5e3bca4",
   "metadata": {},
   "outputs": [],
   "source": [
    "def simple_calc1():\n",
    "    x=int(input(\"Enter first number\"))\n",
    "    y=int(input(\"Enter second number\"))\n",
    "    num=int(input(\"Enter 1 for add , 2 for sub, 3 for multi, 4 for div\"))\n",
    "    if num==1 :\n",
    "        add1(x,y)\n",
    "    if num==2 :\n",
    "        sub1(x,y)\n",
    "    if num==3 :\n",
    "        multi1(x,y)\n",
    "    if num==4 :\n",
    "        div1(x,y)\n",
    "    confirm=int(input(\"Enter 0 to end program, Enter 1 to restart program\"))\n",
    "    if confirm==0:\n",
    "        print(\"Thank you\")\n",
    "    if confirm==1:\n",
    "        simple_calc1()\n",
    "    \n",
    "\n",
    "\n",
    "\n",
    "\n"
   ]
  },
  {
   "cell_type": "code",
   "execution_count": 11,
   "id": "c7964d8b-bdde-4aed-9ad4-443813397f17",
   "metadata": {},
   "outputs": [
    {
     "name": "stdin",
     "output_type": "stream",
     "text": [
      "Enter first number 2\n",
      "Enter second number 3\n",
      "Enter 1 for add , 2 for sub, 3 for multi, 4 for div 3\n"
     ]
    },
    {
     "name": "stdout",
     "output_type": "stream",
     "text": [
      "6\n"
     ]
    },
    {
     "name": "stdin",
     "output_type": "stream",
     "text": [
      "Enter 0 to end program, Enter 1 to restart program 1\n",
      "Enter first number 2\n",
      "Enter second number 2\n",
      "Enter 1 for add , 2 for sub, 3 for multi, 4 for div 3\n"
     ]
    },
    {
     "name": "stdout",
     "output_type": "stream",
     "text": [
      "4\n"
     ]
    },
    {
     "name": "stdin",
     "output_type": "stream",
     "text": [
      "Enter 0 to end program, Enter 1 to restart program 1\n",
      "Enter first number 2\n",
      "Enter second number 3\n",
      "Enter 1 for add , 2 for sub, 3 for multi, 4 for div 4\n"
     ]
    },
    {
     "name": "stdout",
     "output_type": "stream",
     "text": [
      "0.6666666666666666\n"
     ]
    },
    {
     "name": "stdin",
     "output_type": "stream",
     "text": [
      "Enter 0 to end program, Enter 1 to restart program 0\n"
     ]
    },
    {
     "name": "stdout",
     "output_type": "stream",
     "text": [
      "Thank you\n"
     ]
    }
   ],
   "source": [
    "simple_calc1()"
   ]
  },
  {
   "cell_type": "code",
   "execution_count": null,
   "id": "49a92cd0-32fb-45db-8f6b-d8dfe5f2ad50",
   "metadata": {},
   "outputs": [],
   "source": []
  }
 ],
 "metadata": {
  "kernelspec": {
   "display_name": "Python 3",
   "language": "python",
   "name": "python3"
  },
  "language_info": {
   "codemirror_mode": {
    "name": "ipython",
    "version": 3
   },
   "file_extension": ".py",
   "mimetype": "text/x-python",
   "name": "python",
   "nbconvert_exporter": "python",
   "pygments_lexer": "ipython3",
   "version": "3.8.8"
  }
 },
 "nbformat": 4,
 "nbformat_minor": 5
}
