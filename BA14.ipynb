{
 "cells": [
  {
   "cell_type": "code",
   "execution_count": 1,
   "id": "dfa255c7-557b-407b-9c51-0c6c8d32c374",
   "metadata": {},
   "outputs": [],
   "source": [
    "import numpy as np\n",
    "import matplotlib.pyplot as plt"
   ]
  },
  {
   "cell_type": "code",
   "execution_count": 47,
   "id": "98d71d92-84e9-486b-a2c7-25949a5260ca",
   "metadata": {},
   "outputs": [],
   "source": [
    "x=np.array([1,2,3,4,5,6,7,8,9,10,11,12,13])\n",
    "y=np.array([1859,2110,2018,1966,2166,2118,2054,2273,2501,2536,2433,2365,2451])"
   ]
  },
  {
   "cell_type": "code",
   "execution_count": 48,
   "id": "35b5a67b-484c-4e0d-bed7-285e8c4d009a",
   "metadata": {},
   "outputs": [
    {
     "data": {
      "text/plain": [
       "7.0"
      ]
     },
     "execution_count": 48,
     "metadata": {},
     "output_type": "execute_result"
    }
   ],
   "source": [
    "x_mean=np.mean(x)\n",
    "x_mean"
   ]
  },
  {
   "cell_type": "code",
   "execution_count": 49,
   "id": "6aae183c-6704-4245-963e-9e9b181f2b02",
   "metadata": {},
   "outputs": [
    {
     "data": {
      "text/plain": [
       "2219.230769230769"
      ]
     },
     "execution_count": 49,
     "metadata": {},
     "output_type": "execute_result"
    }
   ],
   "source": [
    "y_mean=np.mean(y)\n",
    "y_mean"
   ]
  },
  {
   "cell_type": "code",
   "execution_count": null,
   "id": "5cdb10ae-894b-4ae9-9b33-1f92dde6b8ae",
   "metadata": {},
   "outputs": [],
   "source": []
  },
  {
   "cell_type": "code",
   "execution_count": 50,
   "id": "301b25d4-6f64-418f-89e1-238cf5b85eeb",
   "metadata": {},
   "outputs": [
    {
     "data": {
      "text/plain": [
       "<matplotlib.collections.PathCollection at 0x12cc68a7ac0>"
      ]
     },
     "execution_count": 50,
     "metadata": {},
     "output_type": "execute_result"
    },
    {
     "data": {
      "image/png": "[encoded data removed]",
      "text/plain": [
       "<Figure size 432x288 with 1 Axes>"
      ]
     },
     "metadata": {
      "needs_background": "light"
     },
     "output_type": "display_data"
    }
   ],
   "source": [
    "plt.scatter(x,y)"
   ]
  },
  {
   "cell_type": "code",
   "execution_count": 53,
   "id": "52fb4ee3-7321-4571-9d80-c5cb6e20f00e",
   "metadata": {},
   "outputs": [
    {
     "data": {
      "text/plain": [
       "array([-360.23076923, -109.23076923, -201.23076923, -253.23076923,\n",
       "        -53.23076923, -101.23076923, -165.23076923,   53.76923077,\n",
       "        281.76923077,  316.76923077,  213.76923077,  145.76923077,\n",
       "        231.76923077])"
      ]
     },
     "execution_count": 53,
     "metadata": {},
     "output_type": "execute_result"
    }
   ],
   "source": [
    "yMeanDiff=y-y_mean\n",
    "yMeanDiff\n",
    "\n",
    "\n"
   ]
  },
  {
   "cell_type": "code",
   "execution_count": 54,
   "id": "7984c61b-1a09-44f9-80d5-1c57e18722f7",
   "metadata": {},
   "outputs": [
    {
     "data": {
      "text/plain": [
       "array([-6., -5., -4., -3., -2., -1.,  0.,  1.,  2.,  3.,  4.,  5.,  6.])"
      ]
     },
     "execution_count": 54,
     "metadata": {},
     "output_type": "execute_result"
    }
   ],
   "source": [
    "xMeanDiff=x-x_mean\n",
    "xMeanDiff\n",
    "\n",
    "\n",
    "\n"
   ]
  },
  {
   "cell_type": "code",
   "execution_count": 55,
   "id": "440646de-705a-415c-8c35-9727e99fa702",
   "metadata": {},
   "outputs": [
    {
     "data": {
      "text/plain": [
       "182.0"
      ]
     },
     "execution_count": 55,
     "metadata": {},
     "output_type": "execute_result"
    }
   ],
   "source": [
    "x1squared=xMeanDiff*xMeanDiff\n",
    "x1squared\n",
    "xsquared=sum(x1squared)\n",
    "xsquared"
   ]
  },
  {
   "cell_type": "code",
   "execution_count": 60,
   "id": "217a606e-8b3d-4e5f-a077-f7aa24302522",
   "metadata": {},
   "outputs": [
    {
     "data": {
      "text/plain": [
       "9022.0"
      ]
     },
     "execution_count": 60,
     "metadata": {},
     "output_type": "execute_result"
    }
   ],
   "source": [
    "xy1=xMeanDiff*yMeanDiff\n",
    "xy=sum(xy1)\n",
    "xy\n"
   ]
  },
  {
   "cell_type": "code",
   "execution_count": 61,
   "id": "179f4086-d5bc-4f14-a2c3-1e8776bd0e0d",
   "metadata": {},
   "outputs": [
    {
     "data": {
      "text/plain": [
       "49.57142857142857"
      ]
     },
     "execution_count": 61,
     "metadata": {},
     "output_type": "execute_result"
    }
   ],
   "source": [
    "m=xy/xsquared\n",
    "m"
   ]
  },
  {
   "cell_type": "code",
   "execution_count": 58,
   "id": "47139a0b-a418-4803-bb08-610528277407",
   "metadata": {},
   "outputs": [
    {
     "data": {
      "text/plain": [
       "1872.230769230769"
      ]
     },
     "execution_count": 58,
     "metadata": {},
     "output_type": "execute_result"
    }
   ],
   "source": [
    "c=y_mean-(m*x_mean)\n",
    "c"
   ]
  },
  {
   "cell_type": "code",
   "execution_count": 76,
   "id": "9484d3eb-48d5-4816-8f01-b90d9e9dc641",
   "metadata": {},
   "outputs": [
    {
     "data": {
      "text/plain": [
       "array([1921.8021978 , 1971.37362637, 2020.94505495, 2070.51648352,\n",
       "       2120.08791209, 2169.65934066, 2219.23076923, 2268.8021978 ,\n",
       "       2318.37362637, 2367.94505495, 2417.51648352, 2467.08791209,\n",
       "       2516.65934066])"
      ]
     },
     "execution_count": 76,
     "metadata": {},
     "output_type": "execute_result"
    }
   ],
   "source": [
    "y_new=m*x+c\n",
    "y_new"
   ]
  },
  {
   "cell_type": "code",
   "execution_count": 77,
   "id": "b4b9170e-9e0a-4b9b-8e61-a0408233476f",
   "metadata": {},
   "outputs": [
    {
     "data": {
      "text/plain": [
       "<matplotlib.collections.PathCollection at 0x12cc6c78940>"
      ]
     },
     "execution_count": 77,
     "metadata": {},
     "output_type": "execute_result"
    },
    {
     "data": {
      "image/png": "[encoded data removed]",
      "text/plain": [
       "<Figure size 432x288 with 1 Axes>"
      ]
     },
     "metadata": {
      "needs_background": "light"
     },
     "output_type": "display_data"
    }
   ],
   "source": [
    "plt.plot(x,y_new)\n",
    "plt.scatter(x,y)"
   ]
  },
  {
   "cell_type": "code",
   "execution_count": 81,
   "id": "932e9e6c-9d81-41c4-af93-9d4ccc497122",
   "metadata": {},
   "outputs": [
    {
     "data": {
      "text/plain": [
       "2566.230769230769"
      ]
     },
     "execution_count": 81,
     "metadata": {},
     "output_type": "execute_result"
    }
   ],
   "source": [
    "y_new=m*14+c\n",
    "y_new"
   ]
  },
  {
   "cell_type": "code",
   "execution_count": null,
   "id": "c762d2c0-031d-45c4-aed0-73f039789f1b",
   "metadata": {},
   "outputs": [],
   "source": []
  },
  {
   "cell_type": "code",
   "execution_count": null,
   "id": "860495a6-a286-4fdc-96fe-1a80ce177493",
   "metadata": {},
   "outputs": [],
   "source": []
  }
 ],
 "metadata": {
  "kernelspec": {
   "display_name": "Python 3",
   "language": "python",
   "name": "python3"
  },
  "language_info": {
   "codemirror_mode": {
    "name": "ipython",
    "version": 3
   },
   "file_extension": ".py",
   "mimetype": "text/x-python",
   "name": "python",
   "nbconvert_exporter": "python",
   "pygments_lexer": "ipython3",
   "version": "3.8.8"
  }
 },
 "nbformat": 4,
 "nbformat_minor": 5
}
