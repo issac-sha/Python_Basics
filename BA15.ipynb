{
 "cells": [
  {
   "cell_type": "code",
   "execution_count": 11,
   "id": "58abf4fb-de8f-452c-be78-ced431f7658a",
   "metadata": {},
   "outputs": [],
   "source": [
    "import numpy as np\n",
    "import matplotlib.pyplot as plt"
   ]
  },
  {
   "cell_type": "code",
   "execution_count": 19,
   "id": "f35e2290-85bc-4b65-940e-e33c7ea46a33",
   "metadata": {},
   "outputs": [],
   "source": [
    "x=np.array([1,2,3,4,5])\n",
    "y=np.array([20,25,30,45,25])\n"
   ]
  },
  {
   "cell_type": "code",
   "execution_count": 20,
   "id": "2f61fab4-f2bc-4fed-b30c-e153982c9c08",
   "metadata": {},
   "outputs": [],
   "source": [
    "x=x.reshape(-1,1)"
   ]
  },
  {
   "cell_type": "code",
   "execution_count": 21,
   "id": "5593cee5-3d04-49a6-8111-528697e56ba1",
   "metadata": {},
   "outputs": [],
   "source": [
    "from sklearn.linear_model import LinearRegression"
   ]
  },
  {
   "cell_type": "code",
   "execution_count": 22,
   "id": "d377b09e-5113-4d08-b71c-bf41c20416ff",
   "metadata": {},
   "outputs": [],
   "source": [
    "reg=LinearRegression().fit(x,y)"
   ]
  },
  {
   "cell_type": "code",
   "execution_count": 23,
   "id": "05d8dc39-9d5c-40fa-9e0a-b5919af4d551",
   "metadata": {},
   "outputs": [],
   "source": [
    "ynew=reg.predict(x)"
   ]
  },
  {
   "cell_type": "code",
   "execution_count": 26,
   "id": "a634a589-f31d-4bda-9182-1176cf2377e9",
   "metadata": {},
   "outputs": [
    {
     "data": {
      "text/plain": [
       "array([23., 26., 29., 32., 35.])"
      ]
     },
     "execution_count": 26,
     "metadata": {},
     "output_type": "execute_result"
    }
   ],
   "source": [
    "ynew"
   ]
  },
  {
   "cell_type": "code",
   "execution_count": 27,
   "id": "b7378eca-c3b7-4d05-806a-1b0572172c15",
   "metadata": {},
   "outputs": [
    {
     "data": {
      "text/plain": [
       "[<matplotlib.lines.Line2D at 0x1babf04baf0>]"
      ]
     },
     "execution_count": 27,
     "metadata": {},
     "output_type": "execute_result"
    },
    {
     "data": {
      "image/png": "[encoded data removed]",
      "text/plain": [
       "<Figure size 432x288 with 1 Axes>"
      ]
     },
     "metadata": {
      "needs_background": "light"
     },
     "output_type": "display_data"
    }
   ],
   "source": [
    "plt.scatter(x,y)\n",
    "plt.plot(x,ynew)"
   ]
  },
  {
   "cell_type": "code",
   "execution_count": null,
   "id": "4b753fca-124c-4b8d-abdb-7b9dd45b823b",
   "metadata": {},
   "outputs": [],
   "source": []
  }
 ],
 "metadata": {
  "kernelspec": {
   "display_name": "Python 3",
   "language": "python",
   "name": "python3"
  },
  "language_info": {
   "codemirror_mode": {
    "name": "ipython",
    "version": 3
   },
   "file_extension": ".py",
   "mimetype": "text/x-python",
   "name": "python",
   "nbconvert_exporter": "python",
   "pygments_lexer": "ipython3",
   "version": "3.8.8"
  }
 },
 "nbformat": 4,
 "nbformat_minor": 5
}
