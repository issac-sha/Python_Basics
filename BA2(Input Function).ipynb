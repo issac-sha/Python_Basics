{
 "cells": [
  {
   "cell_type": "code",
   "execution_count": 1,
   "id": "faf3a08a-5c36-4e1d-b5e3-61d644124061",
   "metadata": {},
   "outputs": [
    {
     "name": "stdin",
     "output_type": "stream",
     "text": [
      "Your age 19\n"
     ]
    }
   ],
   "source": [
    "x=input(\"Your age\")"
   ]
  },
  {
   "cell_type": "code",
   "execution_count": 2,
   "id": "21b065ef-2ed9-43c8-9216-2d3d89586654",
   "metadata": {},
   "outputs": [
    {
     "name": "stdout",
     "output_type": "stream",
     "text": [
      "19\n"
     ]
    }
   ],
   "source": [
    "print(x)"
   ]
  },
  {
   "cell_type": "code",
   "execution_count": 3,
   "id": "05e4e7ae-e8b1-4779-bb1c-6992b5167638",
   "metadata": {},
   "outputs": [
    {
     "data": {
      "text/plain": [
       "str"
      ]
     },
     "execution_count": 3,
     "metadata": {},
     "output_type": "execute_result"
    }
   ],
   "source": [
    "type(x)"
   ]
  },
  {
   "cell_type": "code",
   "execution_count": 4,
   "id": "033470d4-ff80-49b8-a4fa-efc2a36ff609",
   "metadata": {},
   "outputs": [
    {
     "name": "stdin",
     "output_type": "stream",
     "text": [
      "Enter your Name: Isaac Sha\n",
      "Enter your Pincode: 686691\n",
      "Enter your phone Number: 9746336363\n"
     ]
    }
   ],
   "source": [
    "name=input(\"Enter your Name:\")\n",
    "add=input(\"Enter your Pincode:\")\n",
    "num=input(\"Enter your phone Number:\")"
   ]
  },
  {
   "cell_type": "code",
   "execution_count": 5,
   "id": "e53ea421-5b03-4971-8963-dce9392fdfd7",
   "metadata": {},
   "outputs": [
    {
     "name": "stdin",
     "output_type": "stream",
     "text": [
      "Enter the first number 5\n",
      "Enter the second number 5\n"
     ]
    },
    {
     "name": "stdout",
     "output_type": "stream",
     "text": [
      "10\n"
     ]
    }
   ],
   "source": [
    "firstnum=input(\"Enter the first number\")\n",
    "secondnum=input(\"Enter the second number\")\n",
    "ans=int(firstnum)+int(secondnum)\n",
    "print(ans)"
   ]
  },
  {
   "cell_type": "code",
   "execution_count": 6,
   "id": "7285c097-3507-4b20-98aa-7a8e5db7eae7",
   "metadata": {},
   "outputs": [],
   "source": [
    "x1=\"India is my country\"\n"
   ]
  },
  {
   "cell_type": "code",
   "execution_count": 7,
   "id": "b12896c3-5609-4d6c-ab1e-82357a11d950",
   "metadata": {},
   "outputs": [
    {
     "data": {
      "text/plain": [
       "'c'"
      ]
     },
     "execution_count": 7,
     "metadata": {},
     "output_type": "execute_result"
    }
   ],
   "source": [
    "x1[12]"
   ]
  },
  {
   "cell_type": "code",
   "execution_count": 8,
   "id": "4c325893-49be-4704-8aaf-d8005eaa5635",
   "metadata": {},
   "outputs": [
    {
     "data": {
      "text/plain": [
       "'y'"
      ]
     },
     "execution_count": 8,
     "metadata": {},
     "output_type": "execute_result"
    }
   ],
   "source": [
    "x1[-1]"
   ]
  },
  {
   "cell_type": "code",
   "execution_count": 9,
   "id": "cbb632f7-924c-4550-9bba-653e0c957f47",
   "metadata": {},
   "outputs": [
    {
     "data": {
      "text/plain": [
       "'India'"
      ]
     },
     "execution_count": 9,
     "metadata": {},
     "output_type": "execute_result"
    }
   ],
   "source": [
    "x1[0:5]"
   ]
  },
  {
   "cell_type": "code",
   "execution_count": 10,
   "id": "20e0b31e-813c-4d45-a7a4-e3f7d7edc72a",
   "metadata": {},
   "outputs": [
    {
     "data": {
      "text/plain": [
       "'I'"
      ]
     },
     "execution_count": 10,
     "metadata": {},
     "output_type": "execute_result"
    }
   ],
   "source": [
    "x1[0]"
   ]
  },
  {
   "cell_type": "code",
   "execution_count": 11,
   "id": "a8ffae9c-8d2a-4071-8084-dc8419bb737d",
   "metadata": {},
   "outputs": [
    {
     "data": {
      "text/plain": [
       "'a'"
      ]
     },
     "execution_count": 11,
     "metadata": {},
     "output_type": "execute_result"
    }
   ],
   "source": [
    "x1[4]"
   ]
  },
  {
   "cell_type": "code",
   "execution_count": 12,
   "id": "351a9494-b214-426f-bb18-4c2422558ccc",
   "metadata": {},
   "outputs": [
    {
     "data": {
      "text/plain": [
       "'India is my country'"
      ]
     },
     "execution_count": 12,
     "metadata": {},
     "output_type": "execute_result"
    }
   ],
   "source": [
    "x1[0:19]"
   ]
  },
  {
   "cell_type": "code",
   "execution_count": 29,
   "id": "e6b4d73d-41a6-4681-9859-ae912248dac4",
   "metadata": {},
   "outputs": [
    {
     "name": "stdin",
     "output_type": "stream",
     "text": [
      "Enter principal amount 50000\n",
      "Enter interest rate 10\n",
      "Enter number of years 6\n"
     ]
    },
    {
     "name": "stdout",
     "output_type": "stream",
     "text": [
      "30000.0\n"
     ]
    }
   ],
   "source": [
    "p=input(\"Enter principal amount\")\n",
    "r=input(\"Enter interest rate\")\n",
    "t=input(\"Enter number of years\")\n",
    "ans=(int(p)*int(r)/100)*int(t)\n",
    "print(ans)"
   ]
  },
  {
   "cell_type": "code",
   "execution_count": null,
   "id": "1cbb1a09-24c2-47da-9f74-e3917a10bbb5",
   "metadata": {},
   "outputs": [],
   "source": []
  }
 ],
 "metadata": {
  "kernelspec": {
   "display_name": "Python 3",
   "language": "python",
   "name": "python3"
  },
  "language_info": {
   "codemirror_mode": {
    "name": "ipython",
    "version": 3
   },
   "file_extension": ".py",
   "mimetype": "text/x-python",
   "name": "python",
   "nbconvert_exporter": "python",
   "pygments_lexer": "ipython3",
   "version": "3.8.8"
  }
 },
 "nbformat": 4,
 "nbformat_minor": 5
}
