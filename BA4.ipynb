{
 "cells": [
  {
   "cell_type": "code",
   "execution_count": 6,
   "id": "95c93a5a-455c-4f8b-9d49-87c345f4f8d9",
   "metadata": {},
   "outputs": [
    {
     "name": "stdin",
     "output_type": "stream",
     "text": [
      "Enter a number 10\n"
     ]
    },
    {
     "name": "stdout",
     "output_type": "stream",
     "text": [
      "Your number is more than 0\n"
     ]
    }
   ],
   "source": [
    "x=int(input(\"Enter a number\"))\n",
    "if x == 0:\n",
    "    print(\"Your number is null\")\n",
    "if x < 0:\n",
    "    print(\"Your number is less than 0\")\n",
    "if x>0:\n",
    "    print(\"Your number is more than 0\")\n"
   ]
  },
  {
   "cell_type": "code",
   "execution_count": 14,
   "id": "7fea0fa4-6186-4897-91d7-3d183b563d10",
   "metadata": {},
   "outputs": [
    {
     "name": "stdin",
     "output_type": "stream",
     "text": [
      "Enter a number -9\n"
     ]
    },
    {
     "name": "stdout",
     "output_type": "stream",
     "text": [
      "X is less than\n"
     ]
    }
   ],
   "source": [
    "x=int(input(\"Enter a number\"))\n",
    "if (x>=0):\n",
    "    if(x==0):\n",
    "        print(\"X is null\")\n",
    "    else:\n",
    "        print(\"X is greater\")\n",
    "    \n",
    "else:\n",
    "    print(\"X is less than\")"
   ]
  },
  {
   "cell_type": "code",
   "execution_count": null,
   "id": "050830e2-efea-4e8b-b1ed-ee6bcda2a633",
   "metadata": {},
   "outputs": [],
   "source": [
    "num = int(input(\"Enter your deposit\"))\n",
    "yrs=int(input(\"Enter number of years\"))\n",
    "\n",
    "if (yrs>=6):\n",
    "    r=.1\n",
    "else:\n",
    "    r=.08\n",
    "if num >= 50000:\n",
    "    r=.1\n",
    "ans= num*yrs*r\n",
    "print(ans)\n",
    "    "
   ]
  },
  {
   "cell_type": "code",
   "execution_count": 13,
   "id": "3e7435e7-2c01-4a8a-9dc1-15ac366ec6cb",
   "metadata": {},
   "outputs": [
    {
     "data": {
      "text/plain": [
       "'meenakshi is a student'"
      ]
     },
     "execution_count": 13,
     "metadata": {},
     "output_type": "execute_result"
    }
   ],
   "source": [
    "x=\"Meenakshi is a student\"\n",
    "x.lower()\n",
    "\n"
   ]
  },
  {
   "cell_type": "code",
   "execution_count": 14,
   "id": "9f639715-b8ea-4707-9249-d1555a40527b",
   "metadata": {},
   "outputs": [
    {
     "data": {
      "text/plain": [
       "'MANSOOR IS AN AVENGER'"
      ]
     },
     "execution_count": 14,
     "metadata": {},
     "output_type": "execute_result"
    }
   ],
   "source": [
    "x=\"Mansoor is an avenger\"\n",
    "x.upper()\n",
    "\n"
   ]
  },
  {
   "cell_type": "code",
   "execution_count": 17,
   "id": "6b6ae253-7d43-45ff-87a7-72faeb2b919f",
   "metadata": {},
   "outputs": [
    {
     "data": {
      "text/plain": [
       "('We are ', 'Indians', '')"
      ]
     },
     "execution_count": 17,
     "metadata": {},
     "output_type": "execute_result"
    }
   ],
   "source": [
    "x=\"We are Indians\"\n",
    "x.partition(\"Indians\")"
   ]
  },
  {
   "cell_type": "code",
   "execution_count": 18,
   "id": "5725fa6e-5c21-43b2-ae32-94b2b8c95ead",
   "metadata": {},
   "outputs": [
    {
     "data": {
      "text/plain": [
       "['I love ', '']"
      ]
     },
     "execution_count": 18,
     "metadata": {},
     "output_type": "execute_result"
    }
   ],
   "source": [
    "x=\"I love America\"\n",
    "x.split(\"America\")"
   ]
  },
  {
   "cell_type": "code",
   "execution_count": 24,
   "id": "37c66b5d-3a46-4f33-935b-0a278166b1b4",
   "metadata": {},
   "outputs": [
    {
     "data": {
      "text/plain": [
       "False"
      ]
     },
     "execution_count": 24,
     "metadata": {},
     "output_type": "execute_result"
    }
   ],
   "source": [
    "x=\"I love playing piano\"\n",
    "x.startswith(\"P\")\n",
    "# your sentence is not starting with p"
   ]
  },
  {
   "cell_type": "code",
   "execution_count": 26,
   "id": "1770a52c-55a8-4a5d-abb9-4f67b33bd288",
   "metadata": {},
   "outputs": [
    {
     "data": {
      "text/plain": [
       "False"
      ]
     },
     "execution_count": 26,
     "metadata": {},
     "output_type": "execute_result"
    }
   ],
   "source": [
    "x=\"Im a dancer\"\n",
    "x.endswith(\"P\")\n",
    "# your sentence is not ending with p"
   ]
  },
  {
   "cell_type": "code",
   "execution_count": 30,
   "id": "363b6031-de78-4c7f-9103-4c52b2e651ae",
   "metadata": {},
   "outputs": [
    {
     "data": {
      "text/plain": [
       "4"
      ]
     },
     "execution_count": 30,
     "metadata": {},
     "output_type": "execute_result"
    }
   ],
   "source": [
    "x=\"China is wealthier than America\"\n",
    "x.count(\"a\")\n",
    "# your sentence counts how many letters it has and its repetition"
   ]
  },
  {
   "cell_type": "code",
   "execution_count": 31,
   "id": "5fb348a1-0e31-491f-9da9-741dc1ac9bd2",
   "metadata": {},
   "outputs": [
    {
     "data": {
      "text/plain": [
       "2"
      ]
     },
     "execution_count": 31,
     "metadata": {},
     "output_type": "execute_result"
    }
   ],
   "source": [
    "x=\"This is ernakulam\"\n",
    "x.count(\"i\")\n",
    "# your sentence counts how many letters it has and its repetition"
   ]
  },
  {
   "cell_type": "code",
   "execution_count": 32,
   "id": "7c7d1c8c-c814-45b1-b345-d2b6a2f33ab1",
   "metadata": {},
   "outputs": [
    {
     "data": {
      "text/plain": [
       "1"
      ]
     },
     "execution_count": 32,
     "metadata": {},
     "output_type": "execute_result"
    }
   ],
   "source": [
    "x=\"This is ernakulam\"\n",
    "x.count(\"i\",3,6)\n",
    "# your sentence counts how many letters it has and its repetition from a specific index point to another"
   ]
  },
  {
   "cell_type": "code",
   "execution_count": 34,
   "id": "8a6ce252-42a9-4cb3-98ba-61bffee1c7f8",
   "metadata": {},
   "outputs": [
    {
     "data": {
      "text/plain": [
       "8"
      ]
     },
     "execution_count": 34,
     "metadata": {},
     "output_type": "execute_result"
    }
   ],
   "source": [
    "x=\"This is ernakulam\"\n",
    "x.index(\"e\")\n",
    "# your sentence  shows which is the index of the specified letter"
   ]
  },
  {
   "cell_type": "code",
   "execution_count": 35,
   "id": "ca0af776-6ac3-4d11-bafa-366fbdcbb0d1",
   "metadata": {},
   "outputs": [
    {
     "data": {
      "text/plain": [
       "11"
      ]
     },
     "execution_count": 35,
     "metadata": {},
     "output_type": "execute_result"
    }
   ],
   "source": [
    "x=\"This is ernakulam\"\n",
    "x.index(\"a\")\n",
    "# your sentence  shows which is the index of the specified letter"
   ]
  },
  {
   "cell_type": "code",
   "execution_count": 42,
   "id": "d79cbe0d-0216-4fd5-9254-de374981a9e1",
   "metadata": {},
   "outputs": [
    {
     "data": {
      "text/plain": [
       "True"
      ]
     },
     "execution_count": 42,
     "metadata": {},
     "output_type": "execute_result"
    }
   ],
   "source": [
    "x=\"abcd123\"\n",
    "x.isalnum()\n",
    "#it shows if your text has some kinds of numerical in it"
   ]
  },
  {
   "cell_type": "code",
   "execution_count": 3,
   "id": "00b802ae-56ed-4a85-9fa3-c2db3979dad2",
   "metadata": {},
   "outputs": [
    {
     "name": "stdin",
     "output_type": "stream",
     "text": [
      "Enter your username isaac\n",
      "Enter your password isaacsha\n"
     ]
    },
    {
     "name": "stdout",
     "output_type": "stream",
     "text": [
      "Succesfully Logined\n"
     ]
    }
   ],
   "source": [
    "#creation of password login system.\n",
    "ans1=input(\"Enter your username\")\n",
    "ans2=input(\"Enter your password\")\n",
    "\n",
    "username=\"isaac\"\n",
    "password=\"isaacsha\"\n",
    "\n",
    "if (username==ans1) & (password==ans2):\n",
    "    print(\"Succesfully Logined\")\n",
    "else:\n",
    "    print(\"Invalid\")\n",
    "\n",
    "    "
   ]
  },
  {
   "cell_type": "code",
   "execution_count": 7,
   "id": "30140646-198a-4462-b91f-065f50de0f56",
   "metadata": {},
   "outputs": [
    {
     "name": "stdin",
     "output_type": "stream",
     "text": [
      "Enter your username iasca\n",
      "Enter your password isaacsha\n"
     ]
    },
    {
     "name": "stdout",
     "output_type": "stream",
     "text": [
      "Invalid Username\n",
      "Password Succesfull\n"
     ]
    }
   ],
   "source": [
    "#creation of password login system.\n",
    "ans1=input(\"Enter your username\")\n",
    "ans2=input(\"Enter your password\")\n",
    "\n",
    "username=\"isaac\"\n",
    "password=\"isaacsha\"\n",
    "\n",
    "if (username==ans1) :\n",
    "    print(\"Username Succesfull\")\n",
    "else:\n",
    "    print(\"Invalid Username\")\n",
    "if(password==ans2):\n",
    "    print(\"Password Succesfull\")\n",
    "else:\n",
    "    print(\"Invalid Password\")\n",
    "\n",
    "    "
   ]
  },
  {
   "cell_type": "code",
   "execution_count": null,
   "id": "2cbb8cb3-d821-4e18-a355-45357df95329",
   "metadata": {},
   "outputs": [],
   "source": []
  }
 ],
 "metadata": {
  "kernelspec": {
   "display_name": "Python 3",
   "language": "python",
   "name": "python3"
  },
  "language_info": {
   "codemirror_mode": {
    "name": "ipython",
    "version": 3
   },
   "file_extension": ".py",
   "mimetype": "text/x-python",
   "name": "python",
   "nbconvert_exporter": "python",
   "pygments_lexer": "ipython3",
   "version": "3.8.8"
  }
 },
 "nbformat": 4,
 "nbformat_minor": 5
}
