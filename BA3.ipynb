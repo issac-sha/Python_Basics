{
 "cells": [
  {
   "cell_type": "code",
   "execution_count": 1,
   "id": "066b76ff-c2a3-4560-a3b2-c53c176ade03",
   "metadata": {},
   "outputs": [],
   "source": [
    "x=7\n"
   ]
  },
  {
   "cell_type": "code",
   "execution_count": 2,
   "id": "4207572a-df24-440e-bc0b-4c38f4726455",
   "metadata": {},
   "outputs": [
    {
     "name": "stdout",
     "output_type": "stream",
     "text": [
      "X is less than 15\n"
     ]
    }
   ],
   "source": [
    "if x > 15 : \n",
    "    print(\"x greater than 15\")\n",
    "if x < 15 :\n",
    "    print(\"X is less than 15\")\n",
    "    "
   ]
  },
  {
   "cell_type": "code",
   "execution_count": 3,
   "id": "b982330f-613f-403d-8a34-84f312ce8c5f",
   "metadata": {},
   "outputs": [],
   "source": [
    "x= 12\n"
   ]
  },
  {
   "cell_type": "code",
   "execution_count": 4,
   "id": "48e29634-1af3-479b-8604-112df3acffb3",
   "metadata": {},
   "outputs": [
    {
     "name": "stdin",
     "output_type": "stream",
     "text": [
      "Enter a number : 15\n"
     ]
    },
    {
     "name": "stdout",
     "output_type": "stream",
     "text": [
      "X is equal to 15\n",
      "same\n"
     ]
    }
   ],
   "source": [
    "x=int(input(\"Enter a number :\"))\n",
    "if x > 15 : \n",
    "    print(\"x greater than 15\")\n",
    "    print(\"Big\")\n",
    "if x < 15 :\n",
    "    print(\"X is less than 15\")\n",
    "    print(\"Small\")\n",
    "if x == 15 :\n",
    "    print(\"X is equal to 15\")\n",
    "    print(\"same\")\n",
    "    "
   ]
  },
  {
   "cell_type": "code",
   "execution_count": 5,
   "id": "5fd5b385-6367-47e9-94e3-42411936ee43",
   "metadata": {},
   "outputs": [
    {
     "name": "stdin",
     "output_type": "stream",
     "text": [
      "Enter principal amount 15551\n",
      "Enter number of years 515\n"
     ]
    },
    {
     "name": "stdout",
     "output_type": "stream",
     "text": [
      "800876\n"
     ]
    }
   ],
   "source": [
    "p=input(\"Enter principal amount\")\n",
    "t=input(\"Enter number of years\")\n",
    "if int(t) > 6 :\n",
    "    ans=(int(p)*int(10)/100)*int(t)\n",
    "    print(int(ans))\n",
    "if int (t) <=6 :\n",
    "    ans=(int(p)*int(8)/100)*int(t)\n",
    "    print(int(ans))"
   ]
  },
  {
   "cell_type": "code",
   "execution_count": 6,
   "id": "b355c391-3e24-4586-b29f-ec9025a290ba",
   "metadata": {},
   "outputs": [
    {
     "name": "stdin",
     "output_type": "stream",
     "text": [
      "Enter principal amount 151515\n",
      "Enter number of years 151\n"
     ]
    },
    {
     "name": "stdout",
     "output_type": "stream",
     "text": [
      "800876\n",
      "2287876.5\n"
     ]
    }
   ],
   "source": [
    "p=input(\"Enter principal amount\")\n",
    "t=input(\"Enter number of years\")\n",
    "if int(t) > 6 :\n",
    "    ans1=(int(p)*int(10)/100)*int(t)\n",
    "    print(int(ans))\n",
    "if int (t) <=6 :\n",
    "    ans2=(int(p)*int(8)/100)*int(t)\n",
    "    print(int(ans))\n",
    "if int(p) > 50000:\n",
    "    ans3=(int(p)*int(10)/100)*int(t)\n",
    "    print(ans1)\n",
    "    \n",
    "\n",
    "    "
   ]
  },
  {
   "cell_type": "code",
   "execution_count": 9,
   "id": "cc7b56fe-3405-4945-84ce-27946e9f2b10",
   "metadata": {},
   "outputs": [
    {
     "name": "stdin",
     "output_type": "stream",
     "text": [
      "Enter principal amount 100000\n",
      "Enter number of years 10\n"
     ]
    },
    {
     "name": "stdout",
     "output_type": "stream",
     "text": [
      "200000\n"
     ]
    }
   ],
   "source": [
    "p=int(input(\"Enter principal amount\"))\n",
    "t=int(input(\"Enter number of years\"))\n",
    "if int(t)>6:\n",
    "    r=10/100\n",
    "if int(t)<6:\n",
    "    r=8/100\n",
    "if int(t)==6:\n",
    "    r=8/100\n",
    "if int(p)==50000:\n",
    "    r=10/100\n",
    "if int(p)>50000:\n",
    "    r=10/100\n",
    "if int(p)<50000:\n",
    "    r=8/100\n",
    "amt = p+(p*r*t)\n",
    "print(int(amt))\n",
    "    "
   ]
  },
  {
   "cell_type": "code",
   "execution_count": null,
   "id": "c2a02b21-1d78-44bd-84b2-778b5d42839b",
   "metadata": {},
   "outputs": [],
   "source": [
    "x1=input(\"Enter first number\")\n",
    "x2=input(\"Enter second number\")\n",
    "z=int(input(\"Enter 1,2,3,4\"))\n",
    "if z==1 :\n",
    "    ans=int(x1)+int(x2)\n",
    "    print(ans)\n",
    "if z==2 :\n",
    "    ans=int(x1)*int(x2)\n",
    "    print(ans)\n",
    "if z==3 :\n",
    "    ans=int(x1)/int(x2)\n",
    "    print(ans)\n",
    "if z==4 :\n",
    "    ans=int(x1)-int(x2)\n",
    "    print(ans)\n",
    "    "
   ]
  },
  {
   "cell_type": "code",
   "execution_count": null,
   "id": "b201c669-fb51-4aac-9394-5aa344601cc4",
   "metadata": {},
   "outputs": [],
   "source": []
  }
 ],
 "metadata": {
  "kernelspec": {
   "display_name": "Python 3",
   "language": "python",
   "name": "python3"
  },
  "language_info": {
   "codemirror_mode": {
    "name": "ipython",
    "version": 3
   },
   "file_extension": ".py",
   "mimetype": "text/x-python",
   "name": "python",
   "nbconvert_exporter": "python",
   "pygments_lexer": "ipython3",
   "version": "3.8.8"
  }
 },
 "nbformat": 4,
 "nbformat_minor": 5
}
