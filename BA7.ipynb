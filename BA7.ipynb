{
 "cells": [
  {
   "cell_type": "code",
   "execution_count": null,
   "id": "301cfedc-de64-4ce8-9501-87d1d45ba309",
   "metadata": {},
   "outputs": [
    {
     "name": "stdin",
     "output_type": "stream",
     "text": [
      "Enter amount 24215125\n"
     ]
    }
   ],
   "source": [
    "amt=int(input(\"Enter amount\"))\n",
    "x=250000\n",
    "if amt<=250000:\n",
    "    t==0\n",
    "if ((amt<=500000) and (amt>250000)):\n",
    "    t=(5/100)*(amt-x)\n",
    "if ((amt<=750000) and (amt >500000)):\n",
    "    t=12500 + (10/100)* (amt-500000)\n",
    "if ((amt<=1000000) and  (amt>750000)):\n",
    "    t=37500 + (15/100)* (amt-750000)\n",
    "if ((amt<= 1250000) and (amt>1000000)):\n",
    "    t=75000 + (20/100)* (amt-1000000)\n",
    "if ((amt <= 1500000) and (amt>1250000)):\n",
    "    t=125000 + (25/100)*(amt-1250000)\n",
    "if (amt > 1500000) :\n",
    "    t= 187500 +(30/100)*1500000\n",
    "print(t)"
   ]
  },
  {
   "cell_type": "code",
   "execution_count": 1,
   "id": "9f86bf9d-1397-4cac-a1fa-c1d9de0b15d0",
   "metadata": {},
   "outputs": [
    {
     "name": "stdin",
     "output_type": "stream",
     "text": [
      "Enter amount 100000000\n"
     ]
    },
    {
     "name": "stdout",
     "output_type": "stream",
     "text": [
      "36035000.0\n"
     ]
    }
   ],
   "source": [
    "amt=int(input(\"Enter amount\"))\n",
    "def amina(a,b,c,d):\n",
    "    t=(a-b)*d+c\n",
    "    print(t)\n",
    "\n",
    "if amt<=250000:\n",
    "    amina(amt,250000,0,0)\n",
    "if ((amt<=500000) and (amt>250000)):\n",
    "    amina(amt,250000,12500,.05)\n",
    "if ((amt<=750000) and (amt >500000)):\n",
    "    amina(amt,250000,37500,.10)\n",
    "if ((amt<=1000000) and  (amt>750000)):\n",
    "    amina(amt,250000,65000,.20)\n",
    "if ((amt<= 1250000) and (amt>1000000)):\n",
    "    amina(amt,250000,90000,.25)\n",
    "if ((amt <= 1500000) and (amt>1250000)):\n",
    "    amina(amt,250000,100000,.30)\n",
    "if (amt > 1500000) :\n",
    "    amina(amt,250000,125000,.36)"
   ]
  }
 ],
 "metadata": {
  "kernelspec": {
   "display_name": "Python 3",
   "language": "python",
   "name": "python3"
  },
  "language_info": {
   "codemirror_mode": {
    "name": "ipython",
    "version": 3
   },
   "file_extension": ".py",
   "mimetype": "text/x-python",
   "name": "python",
   "nbconvert_exporter": "python",
   "pygments_lexer": "ipython3",
   "version": "3.8.8"
  }
 },
 "nbformat": 4,
 "nbformat_minor": 5
}
